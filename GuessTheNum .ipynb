{
 "cells": [
  {
   "cell_type": "code",
   "execution_count": 2,
   "id": "95d23cdf-c508-43b7-9b88-aad75892406a",
   "metadata": {},
   "outputs": [],
   "source": [
    "import random as r\n",
    "\n",
    "def gtn():\n",
    "    guess = r.randint(1,100)\n",
    "    count = 0\n",
    "    while True:\n",
    "        num = int(input(\"guess the number\"))\n",
    "        if num == guess:\n",
    "            count+=1\n",
    "            print (f\"\\n****Congratulation you won****\\n you take {count} attempts to won the game\")\n",
    "            ask = input(\"\\nRestart game \\n'1' for Yes,'2' for No\")\n",
    "            if ask == '1':\n",
    "                return gtn()\n",
    "            else:\n",
    "                break \n",
    "        else:\n",
    "            count+=1\n",
    "            if num>guess:\n",
    "                print(\"your guess is incorrect choose lower num\")\n",
    "            else:\n",
    "                print(\"your guess is incorrect choose higher num\")\n",
    "    print(f\"you take{count}attepts to won the game\")"
   ]
  }
 ],
 "metadata": {
  "kernelspec": {
   "display_name": "Python [conda env:base] *",
   "language": "python",
   "name": "conda-base-py"
  },
  "language_info": {
   "codemirror_mode": {
    "name": "ipython",
    "version": 3
   },
   "file_extension": ".py",
   "mimetype": "text/x-python",
   "name": "python",
   "nbconvert_exporter": "python",
   "pygments_lexer": "ipython3",
   "version": "3.12.7"
  }
 },
 "nbformat": 4,
 "nbformat_minor": 5
}
